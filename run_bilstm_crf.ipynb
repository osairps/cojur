{
 "cells": [
  {
   "cell_type": "code",
   "execution_count": 13,
   "metadata": {},
   "outputs": [],
   "source": [
    "import ktrain\n",
    "from ktrain import text as txt\n",
    "\n",
    "import os\n",
    "os.environ['DISABLE_V2_BEHAVIOR'] = '1'"
   ]
  },
  {
   "cell_type": "code",
   "execution_count": 14,
   "metadata": {},
   "outputs": [],
   "source": [
    "TDATA = 'dataset/train.txt'\n",
    "VDATA = 'dataset/test.txt'"
   ]
  },
  {
   "cell_type": "code",
   "execution_count": 15,
   "metadata": {},
   "outputs": [
    {
     "name": "stdout",
     "output_type": "stream",
     "text": [
      "detected encoding: utf-8 (if wrong, set manually)\n",
      "Number of sentences:  6719\n",
      "Number of words in the dataset:  11441\n",
      "Tags: ['I-DLEG', 'B-DLEI', 'I-DEC', 'B-LEI', 'O', 'I-LEI', 'B-DEC', 'I-LCOMP', 'B-DLEG', 'I-EC', 'B-LCOMP', 'B-MP', 'I-DLEI', 'I-LDEL', 'I-MP', 'B-LDEL', 'B-EC']\n",
      "Number of Labels:  17\n",
      "Longest sentence: 1557 words\n"
     ]
    }
   ],
   "source": [
    "# load data\n",
    "(trn, val, preproc) = txt.entities_from_txt('dataset/train.txt', 'dataset/test.txt',                   \n",
    "                                            use_char=True) # enable character embeddings"
   ]
  },
  {
   "cell_type": "code",
   "execution_count": 16,
   "metadata": {},
   "outputs": [
    {
     "name": "stderr",
     "output_type": "stream",
     "text": [
      "/opt/conda/lib/python3.7/site-packages/ktrain/text/ner/models.py:108: UserWarning: Falling back to BiLSTM (no CRF) because DISABLE_V2_BEHAVIOR=False\n",
      "  warnings.warn('Falling back to BiLSTM (no CRF) because DISABLE_V2_BEHAVIOR=False')\n",
      "/opt/conda/lib/python3.7/site-packages/ktrain/text/ner/models.py:122: UserWarning: Setting use_char=False:  character embeddings cannot be used in TF2 due to open TensorFlow 2 bug (#33148).\n",
      "Add os.environ[\"DISABLE_V2_BEHAVIOR\"] = \"1\" to the top of script if you really want to use it.\n",
      "  warnings.warn('Setting use_char=False:  character embeddings cannot be used in TF2 due to open TensorFlow 2 bug (#33148).\\n' +\\\n"
     ]
    },
    {
     "name": "stdout",
     "output_type": "stream",
     "text": [
      "\n",
      "IMPORTANT NOTE: ktrain uses the CRF module from keras_contrib, which is not yet\n",
      "fully compatible with TensorFlow 2. You can still use the BiLSTM-CRF model\n",
      "in ktrain for sequence tagging with TensorFlow 2, but you must add the\n",
      "following to the top of your script or notebook BEFORE you import ktrain:\n",
      "\n",
      "import os\n",
      "os.environ['DISABLE_V2_BEHAVIOR'] = '1'\n",
      "\n",
      "For this run, a vanilla BiLSTM model (with no CRF layer) will be used.\n",
      "\n",
      "embedding schemes employed:\n",
      "\tword embeddings initialized randomly\n",
      "\n"
     ]
    }
   ],
   "source": [
    "# load model\n",
    "model = txt.sequence_tagger('bilstm-crf', preproc)"
   ]
  },
  {
   "cell_type": "code",
   "execution_count": 17,
   "metadata": {},
   "outputs": [],
   "source": [
    "# wrap model and data in ktrain.Learner object\n",
    "learner = ktrain.get_learner(model, train_data=trn, val_data=val)"
   ]
  },
  {
   "cell_type": "code",
   "execution_count": 18,
   "metadata": {},
   "outputs": [
    {
     "name": "stdout",
     "output_type": "stream",
     "text": [
      "preparing training data ...done.\n",
      "preparing validation data ...done.\n",
      "Epoch 1/5\n",
      "210/210 [==============================] - 84s 400ms/step - loss: 0.0342 - val_loss: 0.0018\n",
      "Epoch 2/5\n",
      "210/210 [==============================] - 102s 484ms/step - loss: 0.0010 - val_loss: 9.7614e-04\n",
      "Epoch 3/5\n",
      "210/210 [==============================] - 107s 509ms/step - loss: 4.9171e-04 - val_loss: 9.1732e-04\n",
      "Epoch 4/5\n",
      "210/210 [==============================] - 108s 517ms/step - loss: 2.6435e-04 - val_loss: 7.7684e-04\n",
      "Epoch 5/5\n",
      "210/210 [==============================] - 94s 447ms/step - loss: 1.8801e-04 - val_loss: 7.7093e-04\n"
     ]
    },
    {
     "data": {
      "text/plain": [
       "<tensorflow.python.keras.callbacks.History at 0x7f5ca1ad3d90>"
      ]
     },
     "execution_count": 18,
     "metadata": {},
     "output_type": "execute_result"
    }
   ],
   "source": [
    "\n",
    "# conventional training for 1 epoch using a learning rate of 0.001 (Keras default for Adam optmizer)\n",
    "learner.fit(0.01, 1, cycle_len=5, checkpoint_folder='/tmp/saved_weights')"
   ]
  },
  {
   "cell_type": "code",
   "execution_count": 19,
   "metadata": {},
   "outputs": [
    {
     "name": "stdout",
     "output_type": "stream",
     "text": [
      "   F1:  99.70\n",
      "              precision    recall  f1-score   support\n",
      "\n",
      "         DEC       1.00      1.00      1.00       776\n",
      "        DLEG       1.00      1.00      1.00         8\n",
      "        DLEI       0.99      1.00      1.00       102\n",
      "          EC       1.00      1.00      1.00         7\n",
      "       LCOMP       0.95      0.97      0.96        39\n",
      "        LDEL       0.00      0.00      0.00         1\n",
      "         LEI       1.00      1.00      1.00      1223\n",
      "          MP       0.98      1.00      0.99        40\n",
      "\n",
      "   micro avg       1.00      1.00      1.00      2196\n",
      "   macro avg       0.86      0.87      0.87      2196\n",
      "weighted avg       1.00      1.00      1.00      2196\n",
      "\n"
     ]
    },
    {
     "data": {
      "text/plain": [
       "0.9970447829052058"
      ]
     },
     "execution_count": 19,
     "metadata": {},
     "output_type": "execute_result"
    }
   ],
   "source": [
    "learner.validate(class_names=preproc.get_classes())"
   ]
  },
  {
   "cell_type": "code",
   "execution_count": 20,
   "metadata": {},
   "outputs": [
    {
     "data": {
      "image/png": "[encoded data removed]",
      "text/plain": [
       "<Figure size 432x288 with 1 Axes>"
      ]
     },
     "metadata": {
      "needs_background": "light"
     },
     "output_type": "display_data"
    }
   ],
   "source": [
    "learner.plot('lr')"
   ]
  },
  {
   "cell_type": "code",
   "execution_count": null,
   "metadata": {},
   "outputs": [],
   "source": []
  }
 ],
 "metadata": {
  "environment": {
   "name": "tf2-2-3-gpu.2-3.m59",
   "type": "gcloud",
   "uri": "gcr.io/deeplearning-platform-release/tf2-2-3-gpu.2-3:m59"
  },
  "kernelspec": {
   "display_name": "Python 3",
   "language": "python",
   "name": "python3"
  },
  "language_info": {
   "codemirror_mode": {
    "name": "ipython",
    "version": 3
   },
   "file_extension": ".py",
   "mimetype": "text/x-python",
   "name": "python",
   "nbconvert_exporter": "python",
   "pygments_lexer": "ipython3",
   "version": "3.7.8"
  }
 },
 "nbformat": 4,
 "nbformat_minor": 4
}
