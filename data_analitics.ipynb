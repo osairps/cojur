{
 "cells": [
  {
   "cell_type": "code",
   "execution_count": 25,
   "metadata": {},
   "outputs": [
    {
     "name": "stderr",
     "output_type": "stream",
     "text": [
      "[nltk_data] Downloading package punkt to /home/jupyter/nltk_data...\n",
      "[nltk_data]   Package punkt is already up-to-date!\n"
     ]
    },
    {
     "data": {
      "text/plain": [
       "True"
      ]
     },
     "execution_count": 25,
     "metadata": {},
     "output_type": "execute_result"
    }
   ],
   "source": [
    "import pandas as pd\n",
    "import nltk\n",
    "from nltk import tokenize\n",
    "from utils import note_taker\n",
    "import re\n",
    "import json\n",
    "\n",
    "nltk.download('punkt')"
   ]
  },
  {
   "cell_type": "code",
   "execution_count": 12,
   "metadata": {},
   "outputs": [
    {
     "data": {
      "text/html": [
       "<div>\n",
       "<style scoped>\n",
       "    .dataframe tbody tr th:only-of-type {\n",
       "        vertical-align: middle;\n",
       "    }\n",
       "\n",
       "    .dataframe tbody tr th {\n",
       "        vertical-align: top;\n",
       "    }\n",
       "\n",
       "    .dataframe thead th {\n",
       "        text-align: right;\n",
       "    }\n",
       "</style>\n",
       "<table border=\"1\" class=\"dataframe\">\n",
       "  <thead>\n",
       "    <tr style=\"text-align: right;\">\n",
       "      <th></th>\n",
       "      <th>tipoDocumento</th>\n",
       "      <th>data</th>\n",
       "      <th>url</th>\n",
       "      <th>title</th>\n",
       "      <th>description</th>\n",
       "      <th>identifier</th>\n",
       "      <th>entity_legal</th>\n",
       "    </tr>\n",
       "  </thead>\n",
       "  <tbody>\n",
       "    <tr>\n",
       "      <th>0</th>\n",
       "      <td>Decreto</td>\n",
       "      <td>1987-09-24</td>\n",
       "      <td>https://www.lexml.gov.br/urn/urn:lex:br:federa...</td>\n",
       "      <td>['Decreto no 94.949, de 24 de Setembro de 1987...</td>\n",
       "      <td>['Abre, a Encargos Gerais da União - Recursos...</td>\n",
       "      <td>895290</td>\n",
       "      <td>Decreto no 94.949</td>\n",
       "    </tr>\n",
       "    <tr>\n",
       "      <th>1</th>\n",
       "      <td>Decreto</td>\n",
       "      <td>1987-09-24</td>\n",
       "      <td>https://www.lexml.gov.br/urn/urn:lex:br:federa...</td>\n",
       "      <td>['Decreto no 94.950, de 24 de Setembro de 1987...</td>\n",
       "      <td>['Abre ao Ministério da Indústria e do Comé...</td>\n",
       "      <td>895291</td>\n",
       "      <td>Decreto no 94.950</td>\n",
       "    </tr>\n",
       "    <tr>\n",
       "      <th>2</th>\n",
       "      <td>Decreto</td>\n",
       "      <td>1987-08-11</td>\n",
       "      <td>https://www.lexml.gov.br/urn/urn:lex:br:federa...</td>\n",
       "      <td>['Decreto no 94.764, de 11 de Agosto de 1987',...</td>\n",
       "      <td>['Altera o Decreto no 88.351, de 1o de junho d...</td>\n",
       "      <td>895292</td>\n",
       "      <td>Decreto no 94.764</td>\n",
       "    </tr>\n",
       "    <tr>\n",
       "      <th>3</th>\n",
       "      <td>Decreto</td>\n",
       "      <td>1987-08-06</td>\n",
       "      <td>https://www.lexml.gov.br/urn/urn:lex:br:federa...</td>\n",
       "      <td>['Decreto no 94.740, de 6 de Agosto de 1987', ...</td>\n",
       "      <td>['Abre ao Ministério da Reforma e do Desenvol...</td>\n",
       "      <td>895293</td>\n",
       "      <td>Decreto no 94.740</td>\n",
       "    </tr>\n",
       "    <tr>\n",
       "      <th>4</th>\n",
       "      <td>Decreto</td>\n",
       "      <td>1987-09-24</td>\n",
       "      <td>https://www.lexml.gov.br/urn/urn:lex:br:federa...</td>\n",
       "      <td>['Decreto no 94.951, de 24 de Setembro de 1987...</td>\n",
       "      <td>['Outorga concessão à RÁDIO PIONEIRA DE FOR...</td>\n",
       "      <td>895294</td>\n",
       "      <td>Decreto no 94.951</td>\n",
       "    </tr>\n",
       "  </tbody>\n",
       "</table>\n",
       "</div>"
      ],
      "text/plain": [
       "  tipoDocumento        data  \\\n",
       "0       Decreto  1987-09-24   \n",
       "1       Decreto  1987-09-24   \n",
       "2       Decreto  1987-08-11   \n",
       "3       Decreto  1987-08-06   \n",
       "4       Decreto  1987-09-24   \n",
       "\n",
       "                                                 url  \\\n",
       "0  https://www.lexml.gov.br/urn/urn:lex:br:federa...   \n",
       "1  https://www.lexml.gov.br/urn/urn:lex:br:federa...   \n",
       "2  https://www.lexml.gov.br/urn/urn:lex:br:federa...   \n",
       "3  https://www.lexml.gov.br/urn/urn:lex:br:federa...   \n",
       "4  https://www.lexml.gov.br/urn/urn:lex:br:federa...   \n",
       "\n",
       "                                               title  \\\n",
       "0  ['Decreto no 94.949, de 24 de Setembro de 1987...   \n",
       "1  ['Decreto no 94.950, de 24 de Setembro de 1987...   \n",
       "2  ['Decreto no 94.764, de 11 de Agosto de 1987',...   \n",
       "3  ['Decreto no 94.740, de 6 de Agosto de 1987', ...   \n",
       "4  ['Decreto no 94.951, de 24 de Setembro de 1987...   \n",
       "\n",
       "                                         description  identifier  \\\n",
       "0  ['Abre, a Encargos Gerais da União - Recursos...      895290   \n",
       "1  ['Abre ao Ministério da Indústria e do Comé...      895291   \n",
       "2  ['Altera o Decreto no 88.351, de 1o de junho d...      895292   \n",
       "3  ['Abre ao Ministério da Reforma e do Desenvol...      895293   \n",
       "4  ['Outorga concessão à RÁDIO PIONEIRA DE FOR...      895294   \n",
       "\n",
       "        entity_legal  \n",
       "0  Decreto no 94.949  \n",
       "1  Decreto no 94.950  \n",
       "2  Decreto no 94.764  \n",
       "3  Decreto no 94.740  \n",
       "4  Decreto no 94.951  "
      ]
     },
     "execution_count": 12,
     "metadata": {},
     "output_type": "execute_result"
    }
   ],
   "source": [
    "df = pd.read_csv('legislacao.csv', sep = '\\t')\n",
    "df.head()"
   ]
  },
  {
   "cell_type": "code",
   "execution_count": 13,
   "metadata": {},
   "outputs": [
    {
     "data": {
      "text/plain": [
       "Decreto                                                32240\n",
       "Decreto Legislativo                                    11836\n",
       "Medida Provisória                                      7200\n",
       "Lei                                                     7037\n",
       "Decreto-Lei                                              332\n",
       "Lei Complementar                                         134\n",
       "Emenda Constitucional                                    119\n",
       "Lei Delegada                                               2\n",
       "Constituição                                             1\n",
       "Ato das Disposições Constitucionais Transitórias        1\n",
       "Name: tipoDocumento, dtype: int64"
      ]
     },
     "execution_count": 13,
     "metadata": {},
     "output_type": "execute_result"
    }
   ],
   "source": [
    "tipo_documento = df.tipoDocumento.value_counts()\n",
    "tipo_documento"
   ]
  },
  {
   "cell_type": "code",
   "execution_count": 14,
   "metadata": {
    "tags": []
   },
   "outputs": [],
   "source": [
    "description_arr = df.description.to_list()\n",
    "            "
   ]
  },
  {
   "cell_type": "code",
   "execution_count": 1,
   "metadata": {},
   "outputs": [
    {
     "output_type": "error",
     "ename": "NameError",
     "evalue": "name 'pd' is not defined",
     "traceback": [
      "\u001b[0;31m---------------------------------------------------------------------------\u001b[0m",
      "\u001b[0;31mNameError\u001b[0m                                 Traceback (most recent call last)",
      "\u001b[0;32m<ipython-input-1-8b70134715bd>\u001b[0m in \u001b[0;36m<module>\u001b[0;34m\u001b[0m\n\u001b[1;32m      9\u001b[0m \u001b[0mwords\u001b[0m \u001b[0;34m=\u001b[0m \u001b[0;34m[\u001b[0m\u001b[0;34m]\u001b[0m\u001b[0;34m\u001b[0m\u001b[0;34m\u001b[0m\u001b[0m\n\u001b[1;32m     10\u001b[0m \u001b[0mchars\u001b[0m \u001b[0;34m=\u001b[0m \u001b[0;34m[\u001b[0m\u001b[0;34m]\u001b[0m\u001b[0;34m\u001b[0m\u001b[0;34m\u001b[0m\u001b[0m\n\u001b[0;32m---> 11\u001b[0;31m \u001b[0mdf_note\u001b[0m \u001b[0;34m=\u001b[0m \u001b[0mpd\u001b[0m\u001b[0;34m.\u001b[0m\u001b[0mDataFrame\u001b[0m\u001b[0;34m(\u001b[0m\u001b[0;34m{\u001b[0m\u001b[0;34m'named_entities'\u001b[0m\u001b[0;34m:\u001b[0m \u001b[0;34m[\u001b[0m\u001b[0;34m]\u001b[0m\u001b[0;34m}\u001b[0m\u001b[0;34m)\u001b[0m\u001b[0;34m\u001b[0m\u001b[0;34m\u001b[0m\u001b[0m\n\u001b[0m\u001b[1;32m     12\u001b[0m \u001b[0;32mfor\u001b[0m \u001b[0mdescription\u001b[0m \u001b[0;32min\u001b[0m \u001b[0mdescription_arr\u001b[0m\u001b[0;34m:\u001b[0m\u001b[0;34m\u001b[0m\u001b[0;34m\u001b[0m\u001b[0m\n\u001b[1;32m     13\u001b[0m     \u001b[0mnamed_entities_arr\u001b[0m \u001b[0;34m=\u001b[0m \u001b[0;34m[\u001b[0m\u001b[0;34m]\u001b[0m\u001b[0;34m\u001b[0m\u001b[0;34m\u001b[0m\u001b[0m\n",
      "\u001b[0;31mNameError\u001b[0m: name 'pd' is not defined"
     ]
    }
   ],
   "source": [
    "train_docs = []\n",
    "test_docs = []\n",
    "\n",
    "amount_text = 0\n",
    "amount_train = 0\n",
    "amount_test = 0\n",
    "\n",
    "lines = []\n",
    "words = []\n",
    "chars = []\n",
    "df_note = pd.DataFrame({'named_entities': []})\n",
    "for description in description_arr:\n",
    "    named_entities_arr = []\n",
    "\n",
    "    if type(description) is not float:\n",
    "        text = description.split(\"'\")[1] if len(description.split(\"'\")) > 1 else description\n",
    "        \n",
    "            \n",
    "        named_entities_arr.extend(re.findall(r'Lei\\sComplementar\\sno\\s\\d+.\\d+|Lei\\sComplementar\\sno\\s\\d+', text))\n",
    "        named_entities_arr.extend(re.findall(r'Lei\\sDelegada\\sno\\s\\d+.\\d+|Lei\\sDelegada\\sno\\s\\d+', text))\n",
    "        named_entities_arr.extend(re.findall(r'\\sLei\\sno\\s\\d+.\\d+|Lei\\sno\\s\\d+ ', text))\n",
    "        named_entities_arr.extend(re.findall(r'Decreto-Lei\\sno\\s\\d+.\\d+|Decreto-Lei\\sno\\s\\d+', text))\n",
    "        named_entities_arr.extend(re.findall(r'Decreto\\sLegislativo\\sno\\s\\d+.\\d+|Decreto\\sLegislativo\\sno\\s\\d+', text))\n",
    "        named_entities_arr.extend(re.findall(r'\\sDecreto\\sno\\s\\d+.\\d+|Decreto\\sno\\s\\d+', text))\n",
    "        named_entities_arr.extend(re.findall(r'Medida\\sProvisória\\sno\\s\\d+.\\d+|Medida\\sProvisória\\sno\\s\\d+', text))\n",
    "        named_entities_arr.extend(re.findall(r'Emenda\\sConstitucional\\sno\\s\\d+.\\d+|Emenda\\sConstitucional\\sno\\s\\d+', text))\n",
    "\n",
    "        if named_entities_arr:\n",
    "            amount_text += 1\n",
    "            corpus, text_tokens = note_taker(text, named_entities_arr)\n",
    "\n",
    "            if amount_text < 9: \n",
    "                train_docs.extend(corpus).append(' ')\n",
    "                amount_train += 1\n",
    "\n",
    "            elif amount_text < 11:\n",
    "                test_docs.extend(corpus).append(' ')\n",
    "                amount_test += 1\n",
    "\n",
    "            else: amount_text = 0\n",
    "\n",
    "            words.extend(text_tokens)\n",
    "            df_note = df_note.append(named_entities_arr, ignore_index=True)\n",
    "\n",
    "with open('dataset/train.txt', 'w') as arquivo:\n",
    "    for train in train_docs: arquivo.write(f'{train}\\n')\n",
    "               \n",
    "with open('dataset/test.txt', 'w') as arquivo:\n",
    "    for test in test_docs: arquivo.write(f'{test}\\n')\n",
    "\n",
    "with open('dataset/words.txt', 'w') as words_arq:\n",
    "    for word in set(words): \n",
    "        words_arq.write(f'{word}\\n')\n",
    "        chars.extend(list(word))\n",
    "\n",
    "with open('dataset/chars.txt', 'w') as chars_arq:\n",
    "    for char in set(chars): chars_arq.write(f'{char}\\n')\n",
    "\n",
    "df_note.to_csv('dataset/note_taker_automatic_info.csv', sep = '\\t')"
   ]
  },
  {
   "cell_type": "code",
   "execution_count": 17,
   "metadata": {},
   "outputs": [
    {
     "name": "stdout",
     "output_type": "stream",
     "text": [
      "train: 6719\n",
      "dev: 839\n",
      "test: 839\n"
     ]
    }
   ],
   "source": [
    "print(f'train: {amount_train}\\ntest: {amount_test}')"
   ]
  },
  {
   "cell_type": "code",
   "execution_count": 20,
   "metadata": {},
   "outputs": [],
   "source": [
    "df_train = pd.read_csv('dataset/train.txt', sep=\" \", header=None)\n",
    "df_train.columns = ['token', 'entity']\n",
    "\n",
    "df_test = pd.read_csv('dataset/test.txt', sep=\" \", header=None)\n",
    "df_test.columns = ['token', 'entity']"
   ]
  },
  {
   "cell_type": "code",
   "execution_count": 34,
   "metadata": {},
   "outputs": [
    {
     "data": {
      "text/plain": [
       "O          288367\n",
       "I-LEI        9351\n",
       "I-DEC        6292\n",
       "B-LEI        4675\n",
       "B-DEC        3145\n",
       "I-DLEI        790\n",
       "B-DLEI        395\n",
       "I-LCOMP       390\n",
       "I-None        381\n",
       "B-LCOMP       130\n",
       "B-None        127\n",
       "I-DLEG        111\n",
       "I-EC           57\n",
       "B-DLEG         37\n",
       "B-EC           19\n",
       "I-LDEL          9\n",
       "B-LDEL          3\n",
       "Name: entity, dtype: int64"
      ]
     },
     "execution_count": 34,
     "metadata": {},
     "output_type": "execute_result"
    }
   ],
   "source": [
    "df_train.entity.value_counts()"
   ]
  },
  {
   "cell_type": "code",
   "execution_count": 35,
   "metadata": {},
   "outputs": [
    {
     "data": {
      "text/plain": [
       "O          38167\n",
       "I-LEI       1248\n",
       "I-DEC        758\n",
       "B-LEI        624\n",
       "B-DEC        379\n",
       "I-DLEI       100\n",
       "I-LCOMP       72\n",
       "I-None        63\n",
       "B-DLEI        50\n",
       "B-LCOMP       24\n",
       "B-None        21\n",
       "I-EC          18\n",
       "I-DLEG        15\n",
       "B-EC           6\n",
       "B-DLEG         5\n",
       "Name: entity, dtype: int64"
      ]
     },
     "execution_count": 35,
     "metadata": {},
     "output_type": "execute_result"
    }
   ],
   "source": [
    "df_dev.entity.value_counts()"
   ]
  },
  {
   "cell_type": "code",
   "execution_count": 36,
   "metadata": {},
   "outputs": [
    {
     "data": {
      "text/plain": [
       "O          37565\n",
       "I-LEI       1199\n",
       "I-DEC        795\n",
       "B-LEI        599\n",
       "B-DEC        397\n",
       "I-DLEI       104\n",
       "I-None        57\n",
       "B-DLEI        52\n",
       "I-LCOMP       45\n",
       "B-None        19\n",
       "B-LCOMP       15\n",
       "I-DLEG         9\n",
       "I-EC           3\n",
       "I-LDEL         3\n",
       "B-DLEG         3\n",
       "B-EC           1\n",
       "B-LDEL         1\n",
       "Name: entity, dtype: int64"
      ]
     },
     "execution_count": 36,
     "metadata": {},
     "output_type": "execute_result"
    }
   ],
   "source": [
    "df_test.entity.value_counts()"
   ]
  },
  {
   "cell_type": "code",
   "execution_count": null,
   "metadata": {},
   "outputs": [],
   "source": []
  }
 ],
 "metadata": {
  "environment": {
   "name": "tf2-2-3-gpu.2-3.m59",
   "type": "gcloud",
   "uri": "gcr.io/deeplearning-platform-release/tf2-2-3-gpu.2-3:m59"
  },
  "kernelspec": {
   "display_name": "Python 3",
   "language": "python",
   "name": "python3"
  },
  "language_info": {
   "codemirror_mode": {
    "name": "ipython",
    "version": 3
   },
   "file_extension": ".py",
   "mimetype": "text/x-python",
   "name": "python",
   "nbconvert_exporter": "python",
   "pygments_lexer": "ipython3",
   "version": "3.8.5-final"
  }
 },
 "nbformat": 4,
 "nbformat_minor": 4
}