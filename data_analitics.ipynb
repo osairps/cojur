{
 "cells": [
  {
   "cell_type": "code",
   "execution_count": 1,
   "metadata": {},
   "outputs": [
    {
     "output_type": "stream",
     "name": "stderr",
     "text": [
      "[nltk_data] Downloading package punkt to /home/telson/nltk_data...\n[nltk_data]   Package punkt is already up-to-date!\n[nltk_data] Downloading package punkt to /home/telson/nltk_data...\n[nltk_data]   Package punkt is already up-to-date!\n"
     ]
    },
    {
     "output_type": "execute_result",
     "data": {
      "text/plain": [
       "True"
      ]
     },
     "metadata": {},
     "execution_count": 1
    }
   ],
   "source": [
    "import pandas as pd\n",
    "import nltk\n",
    "from nltk import tokenize\n",
    "from utils import create_corpus\n",
    "import re\n",
    "import json\n",
    "\n",
    "nltk.download('punkt')"
   ]
  },
  {
   "cell_type": "code",
   "execution_count": 2,
   "metadata": {},
   "outputs": [
    {
     "output_type": "execute_result",
     "data": {
      "text/plain": [
       "  tipoDocumento        data  \\\n",
       "0       Decreto  1987-09-24   \n",
       "1       Decreto  1987-09-24   \n",
       "2       Decreto  1987-08-11   \n",
       "3       Decreto  1987-08-06   \n",
       "4       Decreto  1987-09-24   \n",
       "\n",
       "                                                 url  \\\n",
       "0  https://www.lexml.gov.br/urn/urn:lex:br:federa...   \n",
       "1  https://www.lexml.gov.br/urn/urn:lex:br:federa...   \n",
       "2  https://www.lexml.gov.br/urn/urn:lex:br:federa...   \n",
       "3  https://www.lexml.gov.br/urn/urn:lex:br:federa...   \n",
       "4  https://www.lexml.gov.br/urn/urn:lex:br:federa...   \n",
       "\n",
       "                                               title  \\\n",
       "0  ['Decreto no 94.949, de 24 de Setembro de 1987...   \n",
       "1  ['Decreto no 94.950, de 24 de Setembro de 1987...   \n",
       "2  ['Decreto no 94.764, de 11 de Agosto de 1987',...   \n",
       "3  ['Decreto no 94.740, de 6 de Agosto de 1987', ...   \n",
       "4  ['Decreto no 94.951, de 24 de Setembro de 1987...   \n",
       "\n",
       "                                         description  identifier  \\\n",
       "0  ['Abre, a Encargos Gerais da União - Recursos...      895290   \n",
       "1  ['Abre ao Ministério da Indústria e do Comé...      895291   \n",
       "2  ['Altera o Decreto no 88.351, de 1o de junho d...      895292   \n",
       "3  ['Abre ao Ministério da Reforma e do Desenvol...      895293   \n",
       "4  ['Outorga concessão à RÁDIO PIONEIRA DE FOR...      895294   \n",
       "\n",
       "        entity_legal  \n",
       "0  Decreto no 94.949  \n",
       "1  Decreto no 94.950  \n",
       "2  Decreto no 94.764  \n",
       "3  Decreto no 94.740  \n",
       "4  Decreto no 94.951  "
      ],
      "text/html": "<div>\n<style scoped>\n    .dataframe tbody tr th:only-of-type {\n        vertical-align: middle;\n    }\n\n    .dataframe tbody tr th {\n        vertical-align: top;\n    }\n\n    .dataframe thead th {\n        text-align: right;\n    }\n</style>\n<table border=\"1\" class=\"dataframe\">\n  <thead>\n    <tr style=\"text-align: right;\">\n      <th></th>\n      <th>tipoDocumento</th>\n      <th>data</th>\n      <th>url</th>\n      <th>title</th>\n      <th>description</th>\n      <th>identifier</th>\n      <th>entity_legal</th>\n    </tr>\n  </thead>\n  <tbody>\n    <tr>\n      <th>0</th>\n      <td>Decreto</td>\n      <td>1987-09-24</td>\n      <td>https://www.lexml.gov.br/urn/urn:lex:br:federa...</td>\n      <td>['Decreto no 94.949, de 24 de Setembro de 1987...</td>\n      <td>['Abre, a Encargos Gerais da União - Recursos...</td>\n      <td>895290</td>\n      <td>Decreto no 94.949</td>\n    </tr>\n    <tr>\n      <th>1</th>\n      <td>Decreto</td>\n      <td>1987-09-24</td>\n      <td>https://www.lexml.gov.br/urn/urn:lex:br:federa...</td>\n      <td>['Decreto no 94.950, de 24 de Setembro de 1987...</td>\n      <td>['Abre ao Ministério da Indústria e do Comé...</td>\n      <td>895291</td>\n      <td>Decreto no 94.950</td>\n    </tr>\n    <tr>\n      <th>2</th>\n      <td>Decreto</td>\n      <td>1987-08-11</td>\n      <td>https://www.lexml.gov.br/urn/urn:lex:br:federa...</td>\n      <td>['Decreto no 94.764, de 11 de Agosto de 1987',...</td>\n      <td>['Altera o Decreto no 88.351, de 1o de junho d...</td>\n      <td>895292</td>\n      <td>Decreto no 94.764</td>\n    </tr>\n    <tr>\n      <th>3</th>\n      <td>Decreto</td>\n      <td>1987-08-06</td>\n      <td>https://www.lexml.gov.br/urn/urn:lex:br:federa...</td>\n      <td>['Decreto no 94.740, de 6 de Agosto de 1987', ...</td>\n      <td>['Abre ao Ministério da Reforma e do Desenvol...</td>\n      <td>895293</td>\n      <td>Decreto no 94.740</td>\n    </tr>\n    <tr>\n      <th>4</th>\n      <td>Decreto</td>\n      <td>1987-09-24</td>\n      <td>https://www.lexml.gov.br/urn/urn:lex:br:federa...</td>\n      <td>['Decreto no 94.951, de 24 de Setembro de 1987...</td>\n      <td>['Outorga concessão à RÁDIO PIONEIRA DE FOR...</td>\n      <td>895294</td>\n      <td>Decreto no 94.951</td>\n    </tr>\n  </tbody>\n</table>\n</div>"
     },
     "metadata": {},
     "execution_count": 2
    }
   ],
   "source": [
    "df = pd.read_csv('legislacao.csv', sep = '\\t')\n",
    "df.head()"
   ]
  },
  {
   "cell_type": "code",
   "execution_count": 3,
   "metadata": {},
   "outputs": [
    {
     "output_type": "execute_result",
     "data": {
      "text/plain": [
       "Decreto                                                32240\n",
       "Decreto Legislativo                                    11836\n",
       "Medida Provisória                                      7200\n",
       "Lei                                                     7037\n",
       "Decreto-Lei                                              332\n",
       "Lei Complementar                                         134\n",
       "Emenda Constitucional                                    119\n",
       "Lei Delegada                                               2\n",
       "Constituição                                             1\n",
       "Ato das Disposições Constitucionais Transitórias        1\n",
       "Name: tipoDocumento, dtype: int64"
      ]
     },
     "metadata": {},
     "execution_count": 3
    }
   ],
   "source": [
    "tipo_documento = df.tipoDocumento.value_counts()\n",
    "tipo_documento"
   ]
  },
  {
   "cell_type": "code",
   "execution_count": 5,
   "metadata": {
    "tags": []
   },
   "outputs": [],
   "source": [
    "description_arr = df.description.to_list()\n",
    "create_corpus(description_arr)\n",
    "            "
   ]
  },
  {
   "cell_type": "code",
   "execution_count": 11,
   "metadata": {},
   "outputs": [],
   "source": [
    "df_train = pd.read_csv('dataset/train.txt', sep=\" \", header=None)\n",
    "df_train.columns = ['token', 'entity']\n",
    "\n",
    "df_test = pd.read_csv('dataset/test.txt', sep=\" \", header=None)\n",
    "df_test.columns = ['token', 'entity']"
   ]
  },
  {
   "cell_type": "code",
   "execution_count": 13,
   "metadata": {},
   "outputs": [
    {
     "output_type": "execute_result",
     "data": {
      "text/plain": [
       "O          265915\n",
       "I-LEI        8696\n",
       "I-DEC        5596\n",
       "B-LEI        4348\n",
       "B-DEC        2797\n",
       "I-DLEI        740\n",
       "I-LCOMP       378\n",
       "I-None        378\n",
       "B-DLEI        370\n",
       "B-LCOMP       126\n",
       "B-None        126\n",
       "I-DLEG         84\n",
       "I-EC           54\n",
       "B-DLEG         28\n",
       "B-EC           18\n",
       "I-LDEL          9\n",
       "B-LDEL          3\n",
       "Name: entity, dtype: int64"
      ]
     },
     "metadata": {},
     "execution_count": 13
    }
   ],
   "source": [
    "df_train.entity.value_counts()"
   ]
  },
  {
   "cell_type": "code",
   "execution_count": 9,
   "metadata": {},
   "outputs": [
    {
     "output_type": "error",
     "ename": "NameError",
     "evalue": "name 'df_dev' is not defined",
     "traceback": [
      "\u001b[0;31m---------------------------------------------------------------------------\u001b[0m",
      "\u001b[0;31mNameError\u001b[0m                                 Traceback (most recent call last)",
      "\u001b[0;32m<ipython-input-9-cad4f7461466>\u001b[0m in \u001b[0;36m<module>\u001b[0;34m\u001b[0m\n\u001b[0;32m----> 1\u001b[0;31m \u001b[0mdf_dev\u001b[0m\u001b[0;34m.\u001b[0m\u001b[0mentity\u001b[0m\u001b[0;34m.\u001b[0m\u001b[0mvalue_counts\u001b[0m\u001b[0;34m(\u001b[0m\u001b[0;34m)\u001b[0m\u001b[0;34m\u001b[0m\u001b[0;34m\u001b[0m\u001b[0m\n\u001b[0m",
      "\u001b[0;31mNameError\u001b[0m: name 'df_dev' is not defined"
     ]
    }
   ],
   "source": [
    "df_dev.entity.value_counts()"
   ]
  },
  {
   "cell_type": "code",
   "execution_count": 36,
   "metadata": {},
   "outputs": [
    {
     "data": {
      "text/plain": [
       "O          37565\n",
       "I-LEI       1199\n",
       "I-DEC        795\n",
       "B-LEI        599\n",
       "B-DEC        397\n",
       "I-DLEI       104\n",
       "I-None        57\n",
       "B-DLEI        52\n",
       "I-LCOMP       45\n",
       "B-None        19\n",
       "B-LCOMP       15\n",
       "I-DLEG         9\n",
       "I-EC           3\n",
       "I-LDEL         3\n",
       "B-DLEG         3\n",
       "B-EC           1\n",
       "B-LDEL         1\n",
       "Name: entity, dtype: int64"
      ]
     },
     "execution_count": 36,
     "metadata": {},
     "output_type": "execute_result"
    }
   ],
   "source": [
    "df_test.entity.value_counts()"
   ]
  },
  {
   "cell_type": "code",
   "execution_count": null,
   "metadata": {},
   "outputs": [],
   "source": []
  }
 ],
 "metadata": {
  "environment": {
   "name": "tf2-2-3-gpu.2-3.m59",
   "type": "gcloud",
   "uri": "gcr.io/deeplearning-platform-release/tf2-2-3-gpu.2-3:m59"
  },
  "kernelspec": {
   "display_name": "Python 3",
   "language": "python",
   "name": "python3"
  },
  "language_info": {
   "codemirror_mode": {
    "name": "ipython",
    "version": 3
   },
   "file_extension": ".py",
   "mimetype": "text/x-python",
   "name": "python",
   "nbconvert_exporter": "python",
   "pygments_lexer": "ipython3",
   "version": "3.8.5-final"
  }
 },
 "nbformat": 4,
 "nbformat_minor": 4
}