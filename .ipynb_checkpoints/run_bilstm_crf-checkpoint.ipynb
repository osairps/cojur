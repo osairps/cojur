{
 "cells": [
  {
   "cell_type": "code",
   "execution_count": 5,
   "metadata": {},
   "outputs": [],
   "source": [
    "import ktrain\n",
    "from ktrain import text as txt\n",
    "\n",
    "import os\n",
    "os.environ['DISABLE_V2_BEHAVIOR'] = '1'"
   ]
  },
  {
   "cell_type": "code",
   "execution_count": 6,
   "metadata": {},
   "outputs": [],
   "source": [
    "TDATA = 'dataset/train.txt'\n",
    "VDATA = 'dataset/test.txt'"
   ]
  },
  {
   "cell_type": "code",
   "execution_count": 7,
   "metadata": {},
   "outputs": [
    {
     "name": "stdout",
     "output_type": "stream",
     "text": [
      "detected encoding: utf-8 (if wrong, set manually)\n",
      "Number of sentences:  6108\n",
      "Number of words in the dataset:  10911\n",
      "Tags: ['I-DLEG', 'B-DLEI', 'I-DEC', 'B-LEI', 'O', 'I-LEI', 'B-DEC', 'I-LCOMP', 'B-DLEG', 'I-EC', 'B-LCOMP', 'B-MP', 'I-DLEI', 'I-LDEL', 'I-MP', 'B-LDEL', 'B-EC']\n",
      "Number of Labels:  17\n",
      "Longest sentence: 1557 words\n"
     ]
    }
   ],
   "source": [
    "# load data\n",
    "(trn, val, preproc) = txt.entities_from_txt('dataset/train.txt', 'dataset/test.txt',                   \n",
    "                                            use_char=True) # enable character embeddings"
   ]
  },
  {
   "cell_type": "code",
   "execution_count": 8,
   "metadata": {},
   "outputs": [
    {
     "name": "stdout",
     "output_type": "stream",
     "text": [
      "\n",
      "IMPORTANT NOTE: ktrain uses the CRF module from keras_contrib, which is not yet\n",
      "fully compatible with TensorFlow 2. You can still use the BiLSTM-CRF model\n",
      "in ktrain for sequence tagging with TensorFlow 2, but you must add the\n",
      "following to the top of your script or notebook BEFORE you import ktrain:\n",
      "\n",
      "import os\n",
      "os.environ['DISABLE_V2_BEHAVIOR'] = '1'\n",
      "\n",
      "For this run, a vanilla BiLSTM model (with no CRF layer) will be used.\n",
      "\n",
      "embedding schemes employed:\n",
      "\tword embeddings initialized randomly\n",
      "\n"
     ]
    }
   ],
   "source": [
    "# load model\n",
    "model = txt.sequence_tagger('bilstm-crf', preproc)"
   ]
  },
  {
   "cell_type": "code",
   "execution_count": 9,
   "metadata": {},
   "outputs": [],
   "source": [
    "# wrap model and data in ktrain.Learner object\n",
    "learner = ktrain.get_learner(model, train_data=trn, val_data=val)"
   ]
  },
  {
   "cell_type": "code",
   "execution_count": 10,
   "metadata": {},
   "outputs": [
    {
     "name": "stdout",
     "output_type": "stream",
     "text": [
      "preparing training data ...done.\n",
      "preparing validation data ...done.\n",
      "Epoch 1/10\n",
      "191/191 [==============================] - 75s 392ms/step - loss: 0.0385 - val_loss: 0.0032\n",
      "Epoch 2/10\n",
      "191/191 [==============================] - 69s 363ms/step - loss: 9.6420e-04 - val_loss: 0.0016\n",
      "Epoch 3/10\n",
      "191/191 [==============================] - 75s 394ms/step - loss: 3.1527e-04 - val_loss: 0.0017\n",
      "Epoch 4/10\n",
      "191/191 [==============================] - 76s 399ms/step - loss: 2.0495e-04 - val_loss: 0.0018\n",
      "Epoch 5/10\n",
      "191/191 [==============================] - 73s 380ms/step - loss: 1.5532e-04 - val_loss: 0.0017\n",
      "Epoch 6/10\n",
      "191/191 [==============================] - 71s 369ms/step - loss: 5.7144e-04 - val_loss: 0.0035\n",
      "Epoch 7/10\n",
      "191/191 [==============================] - 71s 372ms/step - loss: 3.5097e-04 - val_loss: 0.0024\n",
      "Epoch 8/10\n",
      "191/191 [==============================] - 70s 365ms/step - loss: 1.4253e-04 - val_loss: 0.0023\n",
      "Epoch 9/10\n",
      "191/191 [==============================] - 76s 399ms/step - loss: 1.0879e-04 - val_loss: 0.0024\n",
      "Epoch 10/10\n",
      "191/191 [==============================] - 74s 386ms/step - loss: 8.7475e-05 - val_loss: 0.0024\n"
     ]
    },
    {
     "data": {
      "text/plain": [
       "<tensorflow.python.keras.callbacks.History at 0x7f5db38c1350>"
      ]
     },
     "execution_count": 10,
     "metadata": {},
     "output_type": "execute_result"
    }
   ],
   "source": [
    "\n",
    "# conventional training for 1 epoch using a learning rate of 0.001 (Keras default for Adam optmizer)\n",
    "learner.fit(0.01, 1, cycle_len=5, checkpoint_folder='/tmp/saved_weights')"
   ]
  },
  {
   "cell_type": "code",
   "execution_count": 11,
   "metadata": {},
   "outputs": [
    {
     "name": "stdout",
     "output_type": "stream",
     "text": [
      "   F1:  99.32\n",
      "              precision    recall  f1-score   support\n",
      "\n",
      "         DEC       0.99      1.00      0.99       766\n",
      "        DLEG       0.79      0.79      0.79        14\n",
      "        DLEI       0.99      1.00      0.99        81\n",
      "          EC       1.00      1.00      1.00         7\n",
      "       LCOMP       1.00      1.00      1.00        28\n",
      "        LDEL       1.00      1.00      1.00         1\n",
      "         LEI       1.00      1.00      1.00      1037\n",
      "          MP       0.82      1.00      0.90        31\n",
      "\n",
      "   micro avg       0.99      1.00      0.99      1965\n",
      "   macro avg       0.95      0.97      0.96      1965\n",
      "weighted avg       0.99      1.00      0.99      1965\n",
      "\n"
     ]
    },
    {
     "data": {
      "text/plain": [
       "0.9931662870159453"
      ]
     },
     "execution_count": 11,
     "metadata": {},
     "output_type": "execute_result"
    }
   ],
   "source": [
    "learner.validate(class_names=preproc.get_classes())"
   ]
  },
  {
   "cell_type": "code",
   "execution_count": 12,
   "metadata": {},
   "outputs": [
    {
     "data": {
      "image/png": "[encoded data removed]",
      "text/plain": [
       "<Figure size 432x288 with 1 Axes>"
      ]
     },
     "metadata": {
      "needs_background": "light"
     },
     "output_type": "display_data"
    }
   ],
   "source": [
    "learner.plot('lr')"
   ]
  },
  {
   "cell_type": "code",
   "execution_count": null,
   "metadata": {},
   "outputs": [],
   "source": []
  }
 ],
 "metadata": {
  "environment": {
   "name": "tf2-2-3-gpu.2-3.m59",
   "type": "gcloud",
   "uri": "gcr.io/deeplearning-platform-release/tf2-2-3-gpu.2-3:m59"
  },
  "kernelspec": {
   "display_name": "Python 3",
   "language": "python",
   "name": "python3"
  },
  "language_info": {
   "codemirror_mode": {
    "name": "ipython",
    "version": 3
   },
   "file_extension": ".py",
   "mimetype": "text/x-python",
   "name": "python",
   "nbconvert_exporter": "python",
   "pygments_lexer": "ipython3",
   "version": "3.7.8"
  }
 },
 "nbformat": 4,
 "nbformat_minor": 4
}
